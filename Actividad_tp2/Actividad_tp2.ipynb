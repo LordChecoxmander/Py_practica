{
  "nbformat": 4,
  "nbformat_minor": 0,
  "metadata": {
    "colab": {
      "name": "Actividad_tp2.ipynb",
      "provenance": []
    },
    "kernelspec": {
      "name": "python3",
      "display_name": "Python 3"
    },
    "language_info": {
      "name": "python"
    }
  },
  "cells": [
    {
      "cell_type": "markdown",
      "source": [
        "apertura de archivos"
      ],
      "metadata": {
        "id": "W8Pt6VNbYdbO"
      }
    },
    {
      "cell_type": "code",
      "execution_count": 9,
      "metadata": {
        "id": "n-1x48TmXJdX"
      },
      "outputs": [],
      "source": [
        "arch_nom = open('nombres_1.txt', \"r\", encoding=\"utf8\")\n",
        "arch_eval1 = open('eval1.txt', 'r')\n",
        "arch_eval2 = open('eval2.txt', 'r')"
      ]
    },
    {
      "cell_type": "markdown",
      "source": [
        "uso readlines para saber el tamaño del archivo y despues vuelvo a poner el puntero en la posicion inicial"
      ],
      "metadata": {
        "id": "HROdbSvaYsA2"
      }
    },
    {
      "cell_type": "code",
      "source": [
        "tamano= len(arch_nom.readlines())\n",
        "arch_nom.seek(0)"
      ],
      "metadata": {
        "colab": {
          "base_uri": "https://localhost:8080/"
        },
        "id": "_gfAHcxAYxyV",
        "outputId": "d30e1a74-df31-4007-df49-5f2c1f5eb602"
      },
      "execution_count": 10,
      "outputs": [
        {
          "output_type": "execute_result",
          "data": {
            "text/plain": [
              "0"
            ]
          },
          "metadata": {},
          "execution_count": 10
        }
      ]
    },
    {
      "cell_type": "markdown",
      "source": [
        "creo una lista de tuplas con nombre y promedio"
      ],
      "metadata": {
        "id": "yvNN0ew_Y0aV"
      }
    },
    {
      "cell_type": "code",
      "source": [
        "lista_alum = [\n",
        "                (str(arch_nom.readline()).replace(\",\", \"\").replace(\"\\n\", \"\").replace(\" '\", \"\").replace(\"'\", \"\"),\n",
        "                (int(arch_eval1.readline().replace(\",\", \"\")) + int(arch_eval2.readline().replace(\",\", \"\")))/2)\n",
        "                for ind in range(tamano)\n",
        "              ]"
      ],
      "metadata": {
        "id": "P0fLbdWVY_QQ"
      },
      "execution_count": 11,
      "outputs": []
    },
    {
      "cell_type": "markdown",
      "source": [
        "cierre de archivos"
      ],
      "metadata": {
        "id": "Rv-GM8riZCew"
      }
    },
    {
      "cell_type": "code",
      "source": [
        "arch_nom.close()\n",
        "arch_eval1.close()\n",
        "arch_eval2.close()"
      ],
      "metadata": {
        "id": "bT6kteYEZE7-"
      },
      "execution_count": 12,
      "outputs": []
    },
    {
      "cell_type": "markdown",
      "source": [
        "itero lista para obtener promedio_general"
      ],
      "metadata": {
        "id": "cfct4FmxZHBH"
      }
    },
    {
      "cell_type": "code",
      "source": [
        "prom_general = 0\n",
        "for i in range(len(lista_alum)):\n",
        "    prom_general += lista_alum[i][1]\n",
        "prom_general /= len(lista_alum)\n",
        "print(f\"Promedio general: {prom_general}\")"
      ],
      "metadata": {
        "colab": {
          "base_uri": "https://localhost:8080/"
        },
        "id": "z233E0SlZXTm",
        "outputId": "bf8a912d-93e5-4df9-e0ec-d26faf233e20"
      },
      "execution_count": 13,
      "outputs": [
        {
          "output_type": "stream",
          "name": "stdout",
          "text": [
            "Promedio general: 48.09574468085106\n"
          ]
        }
      ]
    },
    {
      "cell_type": "markdown",
      "source": [
        "itero lista para obtener lista de los alumnos por debajo del promedio general"
      ],
      "metadata": {
        "id": "oIKBsop6ZaW_"
      }
    },
    {
      "cell_type": "code",
      "source": [
        "lista_alum_mayor = list(filter(lambda x: x[1] < prom_general, lista_alum))\n",
        "print(f\"lista de alumnos con calificacion menos al promedio: {lista_alum_mayor}\")"
      ],
      "metadata": {
        "colab": {
          "base_uri": "https://localhost:8080/"
        },
        "id": "12nQ7Ej1ZcwP",
        "outputId": "7163c9cb-0a95-41e1-d000-541349586472"
      },
      "execution_count": 14,
      "outputs": [
        {
          "output_type": "stream",
          "name": "stdout",
          "text": [
            "lista de alumnos con calificacion menos al promedio: [('CESAR', 39.0), ('Diego', 16.5), ('Dolores', 26.5), ('DYLAN', 37.0), ('ELIANA', 6.5), ('Emanuel', 24.0), ('GONZALO', 38.0), ('Gregorio', 45.0), ('Ignacio', 10.5), ('Jonathan', 31.0), ('Jorge', 39.5), ('JUAN', 34.0), ('Julian', 43.5), ('Leonel', 27.5), ('Nicolás', 32.5), ('NICOLÁS', 11.0), ('Priscila', 12.0), ('Yanina', 42.0)]\n"
          ]
        }
      ]
    }
  ]
}